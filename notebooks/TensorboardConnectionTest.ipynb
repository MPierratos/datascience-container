{
 "cells": [
  {
   "cell_type": "code",
   "execution_count": 12,
   "metadata": {},
   "outputs": [
    {
     "name": "stdout",
     "output_type": "stream",
     "text": [
      "Epoch 1/5\n",
      "60000/60000 [==============================] - 13s 212us/step - loss: 0.1989 - acc: 0.9418\n",
      "Epoch 2/5\n",
      "60000/60000 [==============================] - 13s 218us/step - loss: 0.0802 - acc: 0.9754\n",
      "Epoch 3/5\n",
      "60000/60000 [==============================] - 13s 211us/step - loss: 0.0512 - acc: 0.9834\n",
      "Epoch 4/5\n",
      "60000/60000 [==============================] - 14s 226us/step - loss: 0.0361 - acc: 0.9887\n",
      "Epoch 5/5\n",
      "60000/60000 [==============================] - 13s 218us/step - loss: 0.0275 - acc: 0.9911\n",
      "10000/10000 [==============================] - 1s 76us/step\n"
     ]
    },
    {
     "data": {
      "text/plain": [
       "[0.064981570236594413, 0.98089999999999999]"
      ]
     },
     "execution_count": 12,
     "metadata": {},
     "output_type": "execute_result"
    }
   ],
   "source": [
    "import tensorflow as tf\n",
    "from tensorflow.keras.callbacks import TensorBoard\n",
    "from time import time\n",
    "\n",
    "mnist = tf.keras.datasets.mnist\n",
    "\n",
    "(x_train, y_train),(x_test, y_test) = mnist.load_data()\n",
    "x_train, x_test = x_train / 255.0, x_test / 255.0\n",
    "\n",
    "model = tf.keras.models.Sequential([\n",
    "  tf.keras.layers.Flatten(),\n",
    "  tf.keras.layers.Dense(512, activation=tf.nn.relu),\n",
    "  tf.keras.layers.Dropout(0.2),\n",
    "  tf.keras.layers.Dense(10, activation=tf.nn.softmax)\n",
    "])\n",
    "model.compile(optimizer='adam',\n",
    "              loss='sparse_categorical_crossentropy',\n",
    "              metrics=['accuracy'])\n",
    "\n",
    "tensorboard = TensorBoard(log_dir=\"/tmp/tflearn_logs/{}\".format(time()))\n",
    "\n",
    "model.fit(x_train, y_train, epochs=5, callbacks=[tensorboard])\n",
    "model.evaluate(x_test, y_test)"
   ]
  },
  {
   "cell_type": "code",
   "execution_count": null,
   "metadata": {},
   "outputs": [
    {
     "name": "stdout",
     "output_type": "stream",
     "text": [
      "TensorBoard 1.12.2 at http://d8364ea6f80e:6006 (Press CTRL+C to quit)\r\n"
     ]
    }
   ],
   "source": [
    "# Run tensorboard, if link doesn't work then try http://localhost:6006\n",
    "!tensorboard --logdir=/tmp/tflearn_logs"
   ]
  }
 ],
 "metadata": {
  "kernelspec": {
   "display_name": "Python 3",
   "language": "python",
   "name": "python3"
  },
  "language_info": {
   "codemirror_mode": {
    "name": "ipython",
    "version": 3
   },
   "file_extension": ".py",
   "mimetype": "text/x-python",
   "name": "python",
   "nbconvert_exporter": "python",
   "pygments_lexer": "ipython3",
   "version": "3.6.7"
  }
 },
 "nbformat": 4,
 "nbformat_minor": 2
}
